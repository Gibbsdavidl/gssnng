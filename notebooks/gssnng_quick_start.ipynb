{
 "cells": [
  {
   "cell_type": "markdown",
   "metadata": {},
   "source": [
    "# gssnng\n",
    "Gene Set Scoring on the Nearest Neighbor Graph (gssnng) for Single Cell RNA-seq (scRNA-seq)\n",
    "Works with AnnData objects stored as h5ad files. Takes values from adata.X.\n",
    "\n",
    "The method works by sampling nearest neighbors for each cell, creating a mini-pseudobulk expression profile, and performing single sample gene set scoring.  This gives each cell a score and preserves gradients across clusters. \n",
    "\n",
    "https://github.com/Gibbsdavidl/gssnng\n",
    "\n",
    "Notebook author: David L Gibbs (david.gibbs@isbscience.org)"
   ]
  },
  {
   "cell_type": "code",
   "execution_count": null,
   "metadata": {
    "colab": {
     "base_uri": "https://localhost:8080/"
    },
    "id": "d-HTjuix9Qhg",
    "outputId": "8c2ae4e9-e7c4-440b-b2de-38a96d8515cb"
   },
   "outputs": [],
   "source": [
    "# first let's install the package from github\n",
    "# and clone the repo for the example data\n",
    "!pip install git+https://github.com/Gibbsdavidl/gssnng\n",
    "!git clone https://github.com/Gibbsdavidl/gssnng"
   ]
  },
  {
   "cell_type": "code",
   "execution_count": null,
   "metadata": {
    "id": "tQGZxmA-9iPH"
   },
   "outputs": [],
   "source": [
    "from gssnng import score_cells\n",
    "import scanpy as sc\n",
    "import matplotlib\n",
    "%matplotlib inline"
   ]
  },
  {
   "cell_type": "code",
   "execution_count": null,
   "metadata": {},
   "outputs": [],
   "source": [
    "## !! set up for google colab notebook !! ##\n",
    "# these file paths point to the cloned repo from above #\n",
    "anndata_file = '/content/gssnng/gssnng/test/data/pbmc3k_processed.h5ad'\n",
    "gene_set_file = '/content/gssnng/gssnng/test/data/cibersort_lm22.gmt'\n",
    "\n",
    "# ! Note the direction labels on the gene set names ! #\n",
    "gene_set_names = ['B.cells.naive.up', 'B.cells.memory.up', 'Plasma.cells.up', 'T.cells.CD8.up', 'T.cells.CD4.naive.up', 'T.cells.CD4.memory.resting.up', 'T.cells.CD4.memory.activated.up', 'T.cells.follicular.helper.up', 'T.cells.regulatory..Tregs.up', 'T.cells.gamma.delta.up', 'NK.cells.resting.up', 'NK.cells.activated.up', 'Monocytes.up', 'Macrophages.M0.up', 'Macrophages.M1.up', 'Macrophages.M2.up', 'Dendritic.cells.resting.up', 'Dendritic.cells.activated.up', 'Mast.cells.resting.up', 'Mast.cells.activated.up', 'Eosinophils.up', 'Neutrophils.up']"
   ]
  },
  {
   "cell_type": "code",
   "execution_count": null,
   "metadata": {
    "colab": {
     "base_uri": "https://localhost:8080/"
    },
    "id": "Pk_AE0sp9zCm",
    "outputId": "91827f07-c1f5-4e73-a73a-5f832d19d794"
   },
   "outputs": [],
   "source": [
    "# read in the 10x genomics example data set, same as used in the scanpy tuts\n",
    "q = sc.read_h5ad(anndata_file)\n",
    "\n",
    "# recompute the nearest neighbor graph to give plenty of neighbors to each cell\n",
    "sc.pp.neighbors(q, n_neighbors=32)"
   ]
  },
  {
   "cell_type": "code",
   "execution_count": null,
   "metadata": {
    "colab": {
     "base_uri": "https://localhost:8080/",
     "height": 247
    },
    "id": "1BIB2JT7-Rgz",
    "outputId": "df534992-2e47-4eba-9181-ac9f939cf111"
   },
   "outputs": [],
   "source": [
    "# Then we'll produce a gene set score, for each cell, for each gene set in the .gmt file.\n",
    "# Neighbors are sampled within the groupby parameter. Groups run in parallel, set cores parameter as appropriate.\n",
    "\n",
    "score_cells.with_gene_sets(\n",
    "        adata=q,\n",
    "        gene_set_file=gene_set_file,\n",
    "        groupby=\"louvain\",\n",
    "        smooth_mode='connectivity',\n",
    "        recompute_neighbors=0,\n",
    "        score_method=\"singscore\",\n",
    "        method_params={'normalization':'theoretical'},\n",
    "        samp_neighbors=29,\n",
    "        ranked=True,\n",
    "        cores=4\n",
    "    )\n"
   ]
  },
  {
   "cell_type": "code",
   "execution_count": null,
   "metadata": {},
   "outputs": [],
   "source": [
    "# each gene set is saved as a column in the AnnData.obs data.frame\n",
    "q.obs"
   ]
  },
  {
   "cell_type": "code",
   "execution_count": null,
   "metadata": {
    "id": "OJDK-T0ZDgKu"
   },
   "outputs": [],
   "source": [
    "# let's visualize the scores\n",
    "sc.pl.umap(q, color=['louvain','T.cells.CD8.up','B.cells.naive.up'], wspace=0.35)"
   ]
  },
  {
   "cell_type": "markdown",
   "metadata": {},
   "source": [
    "---\n",
    "\n",
    "###########  THE TOUR OF METHODS #################\n",
    "\n",
    "---"
   ]
  },
  {
   "cell_type": "code",
   "execution_count": null,
   "metadata": {},
   "outputs": [],
   "source": [
    "### RANK BIASED OVERLAP ###\n",
    "### https://dl.acm.org/doi/10.1145/1852102.1852106\n",
    "\n",
    "# del the previous scores\n",
    "#q.obs = q.obs.drop(gene_set_names, axis=1)\n",
    "\n",
    "# rescore\n",
    "score_cells.with_gene_sets(\n",
    "        adata=q,\n",
    "        gene_set_file=gene_set_file,\n",
    "        groupby=\"louvain\",\n",
    "        smooth_mode='connectivity',\n",
    "        recompute_neighbors=0,\n",
    "        score_method=\"rank_biased_overlap\",\n",
    "        method_params={'rbo_depth':50},\n",
    "        samp_neighbors=29,\n",
    "        ranked=True,\n",
    "        cores=6\n",
    "    )\n",
    "\n",
    "# let's visualize \n",
    "sc.pl.umap(q, color=['louvain','T.cells.CD8.up','B.cells.naive.up'], wspace=0.35)\n"
   ]
  },
  {
   "cell_type": "code",
   "execution_count": null,
   "metadata": {},
   "outputs": [],
   "source": []
  },
  {
   "cell_type": "code",
   "execution_count": null,
   "metadata": {},
   "outputs": [],
   "source": [
    "### MEAN Z SCORES COUNTS ###\n",
    "### average of gene-wise Z scores\n",
    "\n",
    "# del the previous scores\n",
    "q.obs = q.obs.drop(gene_set_names, axis=1)\n",
    "\n",
    "# rescore\n",
    "score_cells.with_gene_sets(\n",
    "        adata=q,\n",
    "        gene_set_file=gene_set_file,\n",
    "        groupby=\"louvain\",\n",
    "        smooth_mode='connectivity',\n",
    "        recompute_neighbors=0,\n",
    "        score_method=\"mean_z\",\n",
    "        method_params=None,\n",
    "        samp_neighbors=29,\n",
    "        ranked=False,\n",
    "        cores=4\n",
    "    )\n",
    "\n",
    "# let's visualize \n",
    "sc.pl.umap(q, color=['louvain','T.cells.CD8.up','B.cells.naive.up'], wspace=0.35)"
   ]
  },
  {
   "cell_type": "code",
   "execution_count": null,
   "metadata": {},
   "outputs": [],
   "source": []
  },
  {
   "cell_type": "code",
   "execution_count": null,
   "metadata": {},
   "outputs": [],
   "source": [
    "### MEDIAN RANKS ###\n",
    "\n",
    "# del the previous scores\n",
    "q.obs = q.obs.drop(gene_set_names, axis=1)\n",
    "\n",
    "# rescore\n",
    "score_cells.with_gene_sets(\n",
    "        adata=q,\n",
    "        gene_set_file=gene_set_file,\n",
    "        groupby=\"louvain\",\n",
    "        smooth_mode='connectivity',\n",
    "        recompute_neighbors=0,\n",
    "        score_method=\"median_score\",\n",
    "        method_params=None,\n",
    "        samp_neighbors=29,\n",
    "        ranked=True,\n",
    "        cores=4\n",
    "    )\n",
    "\n",
    "# let's visualize \n",
    "sc.pl.umap(q, color=['louvain','T.cells.CD8.up','B.cells.naive.up'], wspace=0.35)\n"
   ]
  },
  {
   "cell_type": "code",
   "execution_count": null,
   "metadata": {},
   "outputs": [],
   "source": []
  },
  {
   "cell_type": "code",
   "execution_count": null,
   "metadata": {},
   "outputs": [],
   "source": [
    "# ROBUST STANDARDIZED COUNTS\n",
    "\n",
    "# del the previous scores\n",
    "q.obs = q.obs.drop(gene_set_names, axis=1)\n",
    "\n",
    "# rescore\n",
    "score_cells.with_gene_sets(\n",
    "        adata=q,\n",
    "        gene_set_file=gene_set_file,\n",
    "        groupby=\"louvain\",\n",
    "        smooth_mode='connectivity',\n",
    "        recompute_neighbors=0,\n",
    "        score_method=\"robust_std\",\n",
    "        method_params=None,\n",
    "        samp_neighbors=29,\n",
    "        ranked=False,\n",
    "        cores=4\n",
    "    )\n",
    "\n",
    "# let's visualize \n",
    "sc.pl.umap(q, color=['louvain','T.cells.CD8.up','B.cells.naive.up'], wspace=0.35)"
   ]
  },
  {
   "cell_type": "code",
   "execution_count": null,
   "metadata": {},
   "outputs": [],
   "source": []
  },
  {
   "cell_type": "code",
   "execution_count": null,
   "metadata": {},
   "outputs": [],
   "source": [
    "### AVERAGE COUNTS ###\n",
    "\n",
    "# del the previous scores\n",
    "q.obs = q.obs.drop(gene_set_names, axis=1)\n",
    "\n",
    "score_cells.with_gene_sets(\n",
    "        adata=q,\n",
    "        gene_set_file=gene_set_file,\n",
    "        groupby=\"louvain\",\n",
    "        smooth_mode='connectivity',\n",
    "        recompute_neighbors=0,\n",
    "        score_method=\"average_score\",\n",
    "        method_params=None,\n",
    "        samp_neighbors=29,\n",
    "        ranked=True,\n",
    "        cores=4\n",
    "    )\n",
    "\n",
    "# let's visualize \n",
    "sc.pl.umap(q, color=['louvain','T.cells.CD8.up','B.cells.naive.up'], wspace=0.35)\n"
   ]
  },
  {
   "cell_type": "code",
   "execution_count": null,
   "metadata": {},
   "outputs": [],
   "source": []
  },
  {
   "cell_type": "code",
   "execution_count": null,
   "metadata": {},
   "outputs": [],
   "source": [
    "### SUMMED UP ###\n",
    "\n",
    "# del the previous scores\n",
    "q.obs = q.obs.drop(gene_set_names, axis=1)\n",
    "\n",
    "# rescore\n",
    "score_cells.with_gene_sets(\n",
    "        adata=q,\n",
    "        gene_set_file=gene_set_file,\n",
    "        groupby=\"louvain\",\n",
    "        smooth_mode='connectivity',\n",
    "        recompute_neighbors=0,\n",
    "        score_method=\"summed_up\",\n",
    "        method_params=None,\n",
    "        samp_neighbors=29,\n",
    "        ranked=True,\n",
    "        cores=4\n",
    "    )\n",
    "\n",
    "# let's visualize \n",
    "sc.pl.umap(q, color=['louvain','T.cells.CD8.up','B.cells.naive.up'], wspace=0.35)"
   ]
  }
 ],
 "metadata": {
  "colab": {
   "collapsed_sections": [],
   "name": "gssnng_quick_start.ipynb",
   "provenance": []
  },
  "kernelspec": {
   "display_name": "Python 3 (ipykernel)",
   "language": "python",
   "name": "python3"
  },
  "language_info": {
   "codemirror_mode": {
    "name": "ipython",
    "version": 3
   },
   "file_extension": ".py",
   "mimetype": "text/x-python",
   "name": "python",
   "nbconvert_exporter": "python",
   "pygments_lexer": "ipython3",
   "version": "3.8.10"
  }
 },
 "nbformat": 4,
 "nbformat_minor": 4
}
