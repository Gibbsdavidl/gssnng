{
 "cells": [
  {
   "cell_type": "markdown",
   "metadata": {},
   "source": [
    "# gssnng\n",
    "Gene Set Scoring on the Nearest Neighbor Graph (gssnng) for Single Cell RNA-seq (scRNA-seq)\n",
    "Works with AnnData objects stored as h5ad files. Takes values from adata.X.\n",
    "\n",
    "https://github.com/Gibbsdavidl/gssnng\n",
    "\n",
    "Notebook author: David L Gibbs (david.gibbs@isbscience.org)"
   ]
  },
  {
   "cell_type": "code",
   "execution_count": null,
   "metadata": {
    "colab": {
     "base_uri": "https://localhost:8080/"
    },
    "id": "d-HTjuix9Qhg",
    "outputId": "8c2ae4e9-e7c4-440b-b2de-38a96d8515cb"
   },
   "outputs": [],
   "source": [
    "# first let's install the package from github\n",
    "# and clone the repo for the example data\n",
    "!pip install git+https://github.com/Gibbsdavidl/gssnng\n",
    "!git clone https://github.com/Gibbsdavidl/gssnng"
   ]
  },
  {
   "cell_type": "code",
   "execution_count": null,
   "metadata": {
    "id": "tQGZxmA-9iPH"
   },
   "outputs": [],
   "source": [
    "from gssnng import score_cells\n",
    "import scanpy as sc\n",
    "import matplotlib\n",
    "%matplotlib inline"
   ]
  },
  {
   "cell_type": "code",
   "execution_count": null,
   "metadata": {
    "colab": {
     "base_uri": "https://localhost:8080/"
    },
    "id": "Pk_AE0sp9zCm",
    "outputId": "91827f07-c1f5-4e73-a73a-5f832d19d794"
   },
   "outputs": [],
   "source": [
    "# read in the 10x genomics example data set, same as used in the scanpy tuts\n",
    "q = sc.read_h5ad('gssnng/gssnng/test/data/pbmc3k_processed.h5ad')"
   ]
  },
  {
   "cell_type": "code",
   "execution_count": null,
   "metadata": {
    "colab": {
     "base_uri": "https://localhost:8080/"
    },
    "id": "mCBf46dWCsVh",
    "outputId": "814d4c42-dff6-4ba7-fea2-f2037cbee766"
   },
   "outputs": [],
   "source": [
    "# recompute the nearest neighbor graph to give plenty of neighbors to each cell\n",
    "sc.pp.neighbors(q, n_neighbors=32)"
   ]
  },
  {
   "cell_type": "code",
   "execution_count": null,
   "metadata": {
    "colab": {
     "base_uri": "https://localhost:8080/",
     "height": 247
    },
    "id": "1BIB2JT7-Rgz",
    "outputId": "df534992-2e47-4eba-9181-ac9f939cf111"
   },
   "outputs": [],
   "source": [
    "# then we'll produce a gene set score, for each cell, for each gene set in the .gmt file\n",
    "score_cells.with_gene_sets(\n",
    "        adata=q,\n",
    "        gene_set_file=\"gssnng/gssnng/test/data/cibersort_lm22.gmt\",\n",
    "        groupby=\"louvain\",\n",
    "        recompute_neighbors=0,\n",
    "        score_method=\"robust_std\",\n",
    "        method_params=dict(),\n",
    "        samp_neighbors=29,\n",
    "        noise_trials=0,\n",
    "        ranked=True\n",
    "        cores=8\n",
    "    )"
   ]
  },
  {
   "cell_type": "code",
   "execution_count": null,
   "metadata": {},
   "outputs": [],
   "source": [
    "# each gene set is saved as a column in the AnnData.obs data.frame\n",
    "q.obs"
   ]
  },
  {
   "cell_type": "code",
   "execution_count": null,
   "metadata": {
    "id": "OJDK-T0ZDgKu"
   },
   "outputs": [],
   "source": [
    "# let's visualize the CD8 T cell scores\n",
    "sc.pl.umap(q, color=['louvain','T.cells.CD8'], wspace=0.35)"
   ]
  }
 ],
 "metadata": {
  "colab": {
   "collapsed_sections": [],
   "name": "gssnng_quick_start.ipynb",
   "provenance": []
  },
  "kernelspec": {
   "display_name": "Python 3",
   "language": "python",
   "name": "python3"
  },
  "language_info": {
   "codemirror_mode": {
    "name": "ipython",
    "version": 3
   },
   "file_extension": ".py",
   "mimetype": "text/x-python",
   "name": "python",
   "nbconvert_exporter": "python",
   "pygments_lexer": "ipython3",
   "version": "3.8.10"
  }
 },
 "nbformat": 4,
 "nbformat_minor": 4
}
